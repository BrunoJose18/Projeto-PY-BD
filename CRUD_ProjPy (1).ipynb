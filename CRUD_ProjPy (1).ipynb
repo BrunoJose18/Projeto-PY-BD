{
  "nbformat": 4,
  "nbformat_minor": 0,
  "metadata": {
    "colab": {
      "provenance": []
    },
    "kernelspec": {
      "name": "python3",
      "display_name": "Python 3"
    },
    "language_info": {
      "name": "python"
    }
  },
  "cells": [
    {
      "cell_type": "code",
      "execution_count": 119,
      "metadata": {
        "id": "ys9fA0w5GHpZ"
      },
      "outputs": [],
      "source": [
        "import sqlite3 as con\n",
        "import pandas as pd"
      ]
    },
    {
      "cell_type": "code",
      "source": [
        "caminho_csv = '/content/oscar.csv'"
      ],
      "metadata": {
        "id": "Gg1P4NqpK8DA"
      },
      "execution_count": 120,
      "outputs": []
    },
    {
      "cell_type": "code",
      "source": [
        "df = pd.read_csv(caminho_csv)"
      ],
      "metadata": {
        "id": "Sj-1OJ7FLIn2"
      },
      "execution_count": 121,
      "outputs": []
    },
    {
      "cell_type": "code",
      "source": [
        "df.rename(columns={\n",
        "    'name': 'nome',\n",
        "    'birth_year': 'ano_nasc',\n",
        "    'birth_date': 'data_nasc',\n",
        "    'birthplace': 'local_nasc',\n",
        "    'race_ethnicity': 'raca_etnia',\n",
        "    'religion': 'religiao',\n",
        "    'sexual_orientation': 'orientacao_sexual',\n",
        "    'year_edition': 'ano_edicao',\n",
        "    'category': 'categoria',\n",
        "    'movie': 'filme'\n",
        "}, inplace=True)"
      ],
      "metadata": {
        "id": "kG4mKQ5cMQqu"
      },
      "execution_count": 122,
      "outputs": []
    },
    {
      "cell_type": "code",
      "source": [
        "conexao = con.connect('bd_oscar')\n",
        "cursor = conexao.cursor()"
      ],
      "metadata": {
        "id": "2G3MkMsJHmpG"
      },
      "execution_count": 123,
      "outputs": []
    },
    {
      "cell_type": "code",
      "source": [
        "cursor.execute ('''CREATE TABLE IF NOT EXISTS Oscar (\n",
        "                    id INTEGER PRIMARY KEY AUTOINCREMENT,\n",
        "                    nome TEXT,\n",
        "                    ano_nasc INTERGER,\n",
        "                    data_nasc TEXT,\n",
        "                    local_nasc TEXT,\n",
        "                    raca_etnia TEXT,\n",
        "                    religiao TEXT,\n",
        "                    orientacao_sexual TEXT,\n",
        "                    ano_edicao INTERGER,\n",
        "                    categoria TEXT,\n",
        "                    filme TEXT)''')"
      ],
      "metadata": {
        "colab": {
          "base_uri": "https://localhost:8080/"
        },
        "id": "JKv9imglHEvd",
        "outputId": "506f5f43-18a2-4523-d9af-08e0d66519ea"
      },
      "execution_count": 124,
      "outputs": [
        {
          "output_type": "execute_result",
          "data": {
            "text/plain": [
              "<sqlite3.Cursor at 0x7d4453f857c0>"
            ]
          },
          "metadata": {},
          "execution_count": 124
        }
      ]
    },
    {
      "cell_type": "code",
      "source": [
        "df.to_sql('Oscar', conexao, if_exists='append', index=False)"
      ],
      "metadata": {
        "colab": {
          "base_uri": "https://localhost:8080/"
        },
        "id": "VG7XjCrHLqXv",
        "outputId": "af1d05b1-dc31-4721-ee6d-de9fb2c30b2e"
      },
      "execution_count": 125,
      "outputs": [
        {
          "output_type": "execute_result",
          "data": {
            "text/plain": [
              "415"
            ]
          },
          "metadata": {},
          "execution_count": 125
        }
      ]
    },
    {
      "cell_type": "markdown",
      "source": [
        "# CRUD\n"
      ],
      "metadata": {
        "id": "gxDph899PVpH"
      }
    },
    {
      "cell_type": "code",
      "source": [
        "def coletar_dados_ator():\n",
        "    perguntas = {\n",
        "        \"nome\": \"Digite o nome do(a) Ator/Atriz: \",\n",
        "        \"ano_nasc\": \"Digite o ano de nascimento do(a) Ator/Atriz: \",\n",
        "        \"data_nasc\": \"Digite a data de nascimento do(a) Ator/Atriz: \",\n",
        "        \"local_nasc\": \"Digite o local de nascimento do(a) Ator/Atriz: \",\n",
        "        \"raca_etnia\": \"Digite a raça/etnia do(a) Ator/Atriz: \",\n",
        "        \"religiao\": \"Digite a religião do(a) Ator/Atriz: \",\n",
        "        \"orientacao_sexual\": \"Digite a orientação sexual do(a) Ator/Atriz: \",\n",
        "        \"ano_edicao\": \"Digite o ano de edição do filme: \",\n",
        "        \"categoria\": \"Digite a categoria do filme: \",\n",
        "        \"filme\": \"Digite o nome do filme: \"\n",
        "    }\n",
        "\n",
        "    campos_inteiros = {\"ano_nasc\", \"ano_edicao\"}\n",
        "    respostas = {}\n",
        "\n",
        "    for chave, pergunta in perguntas.items():\n",
        "        entrada = input(pergunta)\n",
        "        respostas[chave] = int(entrada) if chave in campos_inteiros else entrada\n",
        "\n",
        "    return respostas\n",
        "\n",
        "def inserir_info_ator_oscar(dados):\n",
        "    cursor.execute('''INSERT INTO Oscar\n",
        "        (nome, ano_nasc, data_nasc, local_nasc, raca_etnia, religiao,\n",
        "         orientacao_sexual, ano_edicao, categoria, filme)\n",
        "        VALUES (?, ?, ?, ?, ?, ?, ?, ?, ?, ?)''',\n",
        "        (\n",
        "            dados[\"nome\"], dados[\"ano_nasc\"], dados[\"data_nasc\"], dados[\"local_nasc\"],\n",
        "            dados[\"raca_etnia\"], dados[\"religiao\"], dados[\"orientacao_sexual\"],\n",
        "            dados[\"ano_edicao\"], dados[\"categoria\"], dados[\"filme\"]\n",
        "        ))\n",
        "    conexao.commit()\n",
        "    return cursor.lastrowid\n"
      ],
      "metadata": {
        "id": "SJSruqNUPaR6"
      },
      "execution_count": 126,
      "outputs": []
    },
    {
      "cell_type": "code",
      "source": [
        "#Teste de inserção de dados\n",
        "dados_ator = coletar_dados_ator()\n",
        "ator_id = inserir_info_ator_oscar(dados_ator)\n",
        "print(f\"Ator/Atriz adicionado(a) com ID: {ator_id}\")"
      ],
      "metadata": {
        "id": "4c36PQKSQLa2"
      },
      "execution_count": null,
      "outputs": []
    },
    {
      "cell_type": "code",
      "source": [
        "def pesquisa_ator_por_id(ator_id):\n",
        "  cursor.execute('''SELECT * FROM Oscar WHERE id = ?''',\n",
        "                   (ator_id,))\n",
        "\n",
        "  result = cursor.fetchone()\n",
        "\n",
        "  print(f\"\\nResultados da busca:\")\n",
        "  if result:\n",
        "      print(f\"\"\"\n",
        "      ID: {result[0]}\\n\n",
        "      Nome: {result[1]}\\n\n",
        "      Ano de nascimento: {result[2]}\\n\n",
        "      Data de nascimento: {result[3]}\\n\n",
        "      Local de nascimento: {result[4]}\\n\n",
        "      Raça/Etnia: {result[5]}\\n\n",
        "      Religiao: {result[6]}\\n\n",
        "      Oritentação Sexual: {result[7]}\\n\n",
        "      Ano de edição do filme: {result[8]}\\n\n",
        "      Categoria do filme: {result[9]}\\n\n",
        "      Nome do filme: {result[10]}\"\"\")\n",
        "  else:\n",
        "      print(\"Usuario nao encontrado.\")"
      ],
      "metadata": {
        "id": "FzIUzGxOTP69"
      },
      "execution_count": null,
      "outputs": []
    },
    {
      "cell_type": "code",
      "source": [
        "#Teste de pesquisa por id\n",
        "ator_id = int(input(\"Digite o id do ator: \"))\n",
        "pesquisa_ator_por_id(ator_id)"
      ],
      "metadata": {
        "id": "gvJZsTJvTuEd"
      },
      "execution_count": null,
      "outputs": []
    },
    {
      "cell_type": "code",
      "source": [
        "def pesquisa_ator_por_nome(nome):\n",
        "  cursor.execute('''SELECT * FROM Oscar WHERE nome LIKE  ?''', ('%' + nome + '%',))\n",
        "  result = cursor.fetchall()\n",
        "  print(f\"Busca por nome: '{nome}'\")\n",
        "  if result:\n",
        "    for linha in result:\n",
        "            print(f\"\"\"\n",
        "ID: {linha[0]}\n",
        "Nome: {linha[1]}\n",
        "Ano de nascimento: {linha[2]}\n",
        "Data de nascimento: {linha[3]}\n",
        "Local de nascimento: {linha[4]}\n",
        "Raça/Etnia: {linha[5]}\n",
        "Religião: {linha[6]}\n",
        "Orientação Sexual: {linha[7]}\n",
        "Ano de edição do filme: {linha[8]}\n",
        "Categoria do filme: {linha[9]}\n",
        "Nome do filme: {linha[10]}\n",
        "\"\"\")\n",
        "            print(\"-\" * 40)\n",
        "    else:\n",
        "        print(\"Ator/atriz não encontrado(a).\")"
      ],
      "metadata": {
        "id": "U7QKINI-mEBE"
      },
      "execution_count": 132,
      "outputs": []
    },
    {
      "cell_type": "code",
      "source": [
        "#Teste de pesquisa por nome\n",
        "nome = input(\"Digite o nome do(a) ator/atriz: \")\n",
        "pesquisa_ator_por_nome(nome)"
      ],
      "metadata": {
        "id": "25cTVtfymokc"
      },
      "execution_count": null,
      "outputs": []
    },
    {
      "cell_type": "code",
      "source": [
        "def dados_atualizado_ator():\n",
        "    perguntas = {\n",
        "        \"ator_id\" : \"Digite o ID do(a) ator/atriz a ser atualizado: \",\n",
        "        \"nome\": \"Digite o nome do(a) Ator/Atriz: \",\n",
        "        \"ano_nasc\": \"Digite o ano de nascimento do(a) Ator/Atriz: \",\n",
        "        \"data_nasc\": \"Digite a data de nascimento do(a) Ator/Atriz: \",\n",
        "        \"local_nasc\": \"Digite o local de nascimento do(a) Ator/Atriz: \",\n",
        "        \"raca_etnia\": \"Digite a raça/etnia do(a) Ator/Atriz: \",\n",
        "        \"religiao\": \"Digite a religião do(a) Ator/Atriz: \",\n",
        "        \"orientacao_sexual\": \"Digite a orientação sexual do(a) Ator/Atriz: \",\n",
        "        \"ano_edicao\": \"Digite o ano de edição do filme: \",\n",
        "        \"categoria\": \"Digite a categoria do filme: \",\n",
        "        \"filme\": \"Digite o nome do filme: \"\n",
        "    }\n",
        "\n",
        "    campos_inteiros = {\"ator_id\", \"ano_nasc\", \"ano_edicao\"}\n",
        "    respostas = {}\n",
        "    for chave, pergunta in perguntas.items():\n",
        "        entrada = input(pergunta)\n",
        "        respostas[chave] = int(entrada) if chave in campos_inteiros else entrada\n",
        "\n",
        "    return respostas\n",
        "\n",
        "def atualizar_ator(dados_atualizado):\n",
        "    cursor.execute('''\n",
        "        UPDATE Oscar\n",
        "        SET nome = ?, ano_nasc = ?, data_nasc = ?, local_nasc = ?, raca_etnia = ?, religiao = ?, orientacao_sexual = ?, ano_edicao = ?, categoria = ?, filme = ?\n",
        "        WHERE id = ?''',\n",
        "        (\n",
        "            dados_atualizado[\"nome\"], dados_atualizado[\"ano_nasc\"], dados_atualizado[\"data_nasc\"], dados_atualizado[\"local_nasc\"],\n",
        "            dados_atualizado[\"raca_etnia\"], dados_atualizado[\"religiao\"], dados_atualizado[\"orientacao_sexual\"],\n",
        "            dados_atualizado[\"ano_edicao\"], dados_atualizado[\"categoria\"], dados_atualizado[\"filme\"], dados_atualizado[\"ator_id\"]\n",
        "        ))\n",
        "    conexao.commit()\n",
        "    return cursor.rowcount"
      ],
      "metadata": {
        "id": "oUR1FPhGXUV1"
      },
      "execution_count": 127,
      "outputs": []
    },
    {
      "cell_type": "code",
      "source": [
        "#Teste de atualização de dados\n",
        "dados_atualizado = dados_atualizado_ator()\n",
        "rows_updated = atualizar_ator(dados_atualizado)\n",
        "if rows_updated:\n",
        "    print(f\"Ator/Atriz com ID {dados_atualizado['ator_id']} atualizado com sucesso.\")\n",
        "else:\n",
        "    print(f\"Nenhum usuario encontrado com ID {dados_atualizado['ator_id']}.\")"
      ],
      "metadata": {
        "id": "atH4hThhcVPi"
      },
      "execution_count": null,
      "outputs": []
    },
    {
      "cell_type": "code",
      "source": [
        "def remover_ator(ator_id):\n",
        "  cursor.execute('''DELETE FROM Oscar WHERE id = ?''', (ator_id,))\n",
        "  conexao.commit()\n",
        "  return cursor.rowcount"
      ],
      "metadata": {
        "id": "mUPB_JOaiRbz"
      },
      "execution_count": null,
      "outputs": []
    },
    {
      "cell_type": "code",
      "source": [
        "#Teste de remoção de ator/atriz\n",
        "ator_id = int(input(\"Digite o ID do ator/atriz a ser deletado: \"))\n",
        "rows_deleted = remover_ator(ator_id)\n",
        "if rows_deleted:\n",
        "    print(f\"Ator/Atriz com ID {ator_id} deletado com sucesso.\")\n",
        "else:\n",
        "    print(\"Opção inválida. Tente novamente.\")"
      ],
      "metadata": {
        "id": "wH3pzz9Oi85z"
      },
      "execution_count": null,
      "outputs": []
    }
  ]
}